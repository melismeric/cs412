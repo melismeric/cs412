{
  "nbformat": 4,
  "nbformat_minor": 0,
  "metadata": {
    "colab": {
      "name": "cs412-HW1-DecisionTree-kNN-zmelis.ipynb",
      "provenance": [],
      "collapsed_sections": []
    },
    "kernelspec": {
      "name": "python3",
      "display_name": "Python 3"
    },
    "accelerator": "GPU"
  },
  "cells": [
    {
      "cell_type": "markdown",
      "metadata": {
        "id": "voHKcAfRfdNY"
      },
      "source": [
        "# CS5412 - Machine Learning\n",
        "## Homework 1\n",
        "100 pts\n",
        "\n",
        "\n",
        "## Goal\n",
        "\n",
        "The goal of this homework is three-fold:\n",
        "\n",
        "*   Introduction to the machine learning experimental set up \n",
        "*   Gain experience with Decision trees and k-NN approaches\n",
        "*   Gain experience with the Scikit library\n",
        "\n",
        "## Dataset\n",
        "**MNIST** is a collection of 28x28 grayscale images of digits (0-9); hence each pixel is a gray-level from 0-255. \n",
        "\n",
        "The data is available under Resources/HW-Data .\n",
        "It is downloaded from https://www.kaggle.com/oddrationale/mnist-in-csv\n",
        "You can also use some other locations to download ()as it is a standard dataset with a separate test set) and possibly find utility code for, e.g. Yann LeCun's site.\n",
        "\n",
        "**But you must use a 20% of the training data for validation** (no need for cross-validation as you have plenty of data) and **use the official test data (10,000 samples) only for testing.**\n",
        "\n",
        "## Task \n",
        "Build 2 classifiers (decision tree, k-NN) with the scikit library function calls to classify digits in the MNIST dataset.\n"
      ]
    },
    {
      "cell_type": "markdown",
      "metadata": {
        "id": "_YOYiWvHbNDW"
      },
      "source": [
        "##1) Initialize\n",
        "\n",
        "*   First make a copy of the notebook given to you as a starter.\n",
        "\n",
        "*   Make sure you choose Connect form upper right.\n"
      ]
    },
    {
      "cell_type": "markdown",
      "metadata": {
        "id": "MM-wwHR8qL0M"
      },
      "source": [
        "## 2) Load training dataset\n",
        "\n",
        "*  Add your data files to the project and dont forget that any data allocation is taken back after 12 hours, so you may need to upload a few times.\n",
        "\n"
      ]
    },
    {
      "cell_type": "code",
      "metadata": {
        "id": "Iz3iMpjVfa5I"
      },
      "source": [
        "from keras.datasets import mnist\n",
        "import numpy as np \n",
        "\n",
        "(trainData_2D, trainLabels), (testData_2D, testLabels) = mnist.load_data()\n",
        "\n",
        "\n",
        "# Reshape training to 1D\n",
        "train_sz = trainData_2D.shape\n",
        "trainData = np.reshape(trainData_2D, (train_sz[0], train_sz[1]*train_sz[2])).astype('float32')\n",
        "\n",
        "# Reshape testing to 1D\n",
        "test_sz = testData_2D.shape\n",
        "testData = np.reshape(testData_2D, (test_sz[0], test_sz[1]*test_sz[2])).astype('float32')\n",
        "\n",
        "# Normalize\n",
        "from sklearn.preprocessing import normalize\n",
        "trainData = normalize(trainData)\n",
        "testData = normalize(testData)\n",
        "\n",
        "\n",
        "\n"
      ],
      "execution_count": null,
      "outputs": []
    },
    {
      "cell_type": "markdown",
      "metadata": {
        "id": "8NdW2ItjHLxJ"
      },
      "source": [
        "##3) Understanding the dataset\n",
        "\n",
        "There are alot of functions that can be used to know more about this dataset\n",
        "\n",
        "- What is the shape of the training set (num of samples X number of attributes) ***[shape function can be used]***\n",
        "\n",
        "- Display attribute names ***[columns function can be used]***\n",
        "\n",
        "- Display the first 5 rows from training dataset ***[head or sample functions can be used]***\n",
        "\n",
        ".."
      ]
    },
    {
      "cell_type": "code",
      "metadata": {
        "id": "CA_AjGQasjvS",
        "colab": {
          "base_uri": "https://localhost:8080/",
          "height": 168
        },
        "outputId": "8288bc43-b63f-450e-c599-cf5a50e228af"
      },
      "source": [
        "# print shape\n",
        "print('Training Data Shape:', trainData.shape)\n",
        "print('Testing Data Shape:', testData.shape)\n",
        "\n",
        "#column names\n",
        "print('Training Data Labels:', trainLabels)\n",
        "print('Testing Data Labels:', testLabels)\n",
        "\n",
        "#Head\n",
        "print('Training Data first 5 rows:', trainData[:5])\n",
        "\n"
      ],
      "execution_count": null,
      "outputs": [
        {
          "output_type": "stream",
          "text": [
            "Training Data Shape: (60000, 784)\n",
            "Testing Data Shape: (10000, 784)\n",
            "Training Data Labels: [5 0 4 ... 5 6 8]\n",
            "Testing Data Labels: [7 2 1 ... 4 5 6]\n",
            "Training Data first 5 rows: [[0. 0. 0. ... 0. 0. 0.]\n",
            " [0. 0. 0. ... 0. 0. 0.]\n",
            " [0. 0. 0. ... 0. 0. 0.]\n",
            " [0. 0. 0. ... 0. 0. 0.]\n",
            " [0. 0. 0. ... 0. 0. 0.]]\n"
          ],
          "name": "stdout"
        }
      ]
    },
    {
      "cell_type": "markdown",
      "metadata": {
        "id": "Vop4rwZVxh9Z"
      },
      "source": [
        "##4) Shuffle and Split TRAINING data as train (also called development) (80%) and validation (20%) "
      ]
    },
    {
      "cell_type": "code",
      "metadata": {
        "id": "KEhk8R24xhdY"
      },
      "source": [
        "from sklearn.utils import shuffle\n",
        "\n",
        "#we take a portion of our data\n",
        "portion = 10\n",
        "\n",
        "trainData = trainData[0:round(portion*train_sz[0]/100),]\n",
        "trainLabels = trainLabels[0:round(portion*train_sz[0]/100)]\n",
        "\n",
        "testData = testData[0:round(portion*test_sz[0]/100),]\n",
        "testLabels = testLabels[0:round(portion*test_sz[0]/100)]\n",
        "\n",
        "# Shuffle the training data\n",
        "trainData = shuffle(trainData, random_state=20)\n",
        "trainLabels = shuffle(trainLabels, random_state=20)\n",
        "\n",
        "\n",
        "# Split 80-20\n",
        "from sklearn.model_selection import train_test_split\n",
        "\n",
        "(train_x, val_x, train_y, val_y) = train_test_split(trainData, trainLabels, test_size=0.2)\n",
        "(test_x,val_x1, test_y, val_y1) = train_test_split(testData, testLabels, test_size=0.2)\n"
      ],
      "execution_count": null,
      "outputs": []
    },
    {
      "cell_type": "markdown",
      "metadata": {
        "id": "xR1oMsPu0AV_"
      },
      "source": [
        "##5) Train decision tree and k-NN  classifiers with the development portion of the training data\n",
        "\n",
        "* Train a decision tree classifier with different values of \"min_samples_split\" which is the minimum number of samples required to split an internal node:  min_samples_split = [default = 1, 3, 5]. **After finding the best parameter, just leave that one trained**.\n",
        "\n",
        "* Train a k-NN classifier (k=1 and k=5 and rest of the parameters set to default). **After finding the best parameter, just leave that one trained**.\n"
      ]
    },
    {
      "cell_type": "markdown",
      "metadata": {
        "id": "VKpywZNk1t8H"
      },
      "source": [
        "## 6) Test your trained classifiers on the Validation set\n",
        "Test your trained classifiers on the validation set and print the accuracies.\n"
      ]
    },
    {
      "cell_type": "code",
      "metadata": {
        "id": "Nv6oac-T3Wy5",
        "colab": {
          "base_uri": "https://localhost:8080/",
          "height": 67
        },
        "outputId": "0ab5f107-a179-4674-bf1a-7af1fb4c9307"
      },
      "source": [
        "from sklearn.neighbors import KNeighborsClassifier\n",
        "\n",
        "\n",
        "# initialize the values of k to be a list of odd numbers between 1 and 30\n",
        "kVals = [1,3,5]\n",
        "\n",
        "# Save the accuracies of each value of kVal in [accuracies] variable\n",
        "# hint: you can use accuracies.append(...) function inside the loop\n",
        "accuracies = []\n",
        "\n",
        "# loop over values of k for the k-Nearest Neighbor classifier\n",
        "\n",
        "for k in kVals:\n",
        "  \n",
        "  # Train the k-Nearest Neighbor classifier with the current value of k\n",
        "  model = KNeighborsClassifier(n_neighbors=k)\n",
        "  model.fit(train_x, train_y)\n",
        "  \n",
        "  # Evaluate the model on validation set \n",
        "  score = model.score(val_x, val_y)\n",
        "  print(\"For k = %d, validation accuracy = %.5f%%\" % (k, score * 100))\n",
        "  \n",
        "  # Update the accuracies list\n",
        "  accuracies.append(score)"
      ],
      "execution_count": null,
      "outputs": [
        {
          "output_type": "stream",
          "text": [
            "For k = 1, validation accuracy = 94.91667%\n",
            "For k = 3, validation accuracy = 94.83333%\n",
            "For k = 5, validation accuracy = 94.91667%\n"
          ],
          "name": "stdout"
        }
      ]
    },
    {
      "cell_type": "code",
      "metadata": {
        "id": "NxfcCATfmKxW",
        "colab": {
          "base_uri": "https://localhost:8080/",
          "height": 67
        },
        "outputId": "20f38f4a-2f9c-4c3c-834b-5b0737372b97"
      },
      "source": [
        "from sklearn.tree import DecisionTreeClassifier\n",
        "\n",
        "\n",
        "# initialize the values of k to be a list of odd numbers between 1 and 30\n",
        "minSamplesLeaf =[1,5]\n",
        "\n",
        "# Save the accuracies of each value of kVal in [accuracies] variable\n",
        "# hint: you can use accuracies.append(...) function inside the loop\n",
        "accuracies = []\n",
        "\n",
        "# loop over values of k for the k-Nearest Neighbor classifier\n",
        "\n",
        "for m in minSamplesLeaf:\n",
        "  \n",
        "  # Train the k-Nearest Neighbor classifier with the current value of k\n",
        "  model = DecisionTreeClassifier(criterion = \"gini\", random_state = 100,\n",
        "                               max_depth=3, min_samples_leaf=m)\n",
        "  model.fit(train_x, train_y)\n",
        "  \n",
        "  # Evaluate the model on validation set \n",
        "  score = model.score(val_x, val_y)\n",
        "  print(\"For m = %d, validation accuracy = %.5f%%\" % (m, score * 100))\n",
        " \n",
        "  \n",
        "  # Update the accuracies list\n",
        "  accuracies.append(score)\n",
        "  \n",
        "  # Find the index of k value with the highest validation accuracy\n",
        "i = np.argmax(accuracies)\n",
        "print(\"best min_leaf_split = %d with %.5f%% validation accuracy\" % (minSamplesLeaf[i], accuracies[i] * 100))\n",
        "\n"
      ],
      "execution_count": null,
      "outputs": [
        {
          "output_type": "stream",
          "text": [
            "For m = 1, validation accuracy = 41.41667%\n",
            "For m = 5, validation accuracy = 41.41667%\n",
            "best min_leaf_split = 1 with 41.41667% validation accuracy\n"
          ],
          "name": "stdout"
        }
      ]
    },
    {
      "cell_type": "markdown",
      "metadata": {
        "id": "boqe46St1--f"
      },
      "source": [
        "## 7) Test your CHOSEN classifier on Test set\n",
        "\n",
        "- Load test data\n",
        "- Apply same pre-processing as training data (probably none)\n",
        "- predict the labels of testing data **using the best chosen SINGLE model out of the models (2 approaches, 5 param. setting) that you have tried from step 6 (you have selected your model according to your validation results)** and report the accuracy. "
      ]
    },
    {
      "cell_type": "code",
      "metadata": {
        "id": "wy7UNut21hxd",
        "colab": {
          "base_uri": "https://localhost:8080/",
          "height": 50
        },
        "outputId": "0bbc6a1a-1f0b-408e-fa22-aa0a74bf7e2f"
      },
      "source": [
        "from sklearn.metrics import accuracy_score\n",
        "\n",
        "# Use misclassification rate as error measure\n",
        "\n",
        "model = DecisionTreeClassifier(criterion = \"gini\", random_state = 100,\n",
        "                               max_depth=3, min_samples_leaf=1)\n",
        "model.fit(val_x, val_y)\n",
        "\n",
        "# Predict the labels of the test data\n",
        "predictions = model.predict(testData)\n",
        "\n",
        "# Report your results\n",
        "\n",
        "# Calculate the accuracy given the true labels and prediction of test data\n",
        "from sklearn.metrics import accuracy_score\n",
        "TestAccuracy = accuracy_score(testLabels, predictions)\n",
        "print(\"Testing Accuracy with decision tree classifier = %.5f%%\" % (TestAccuracy * 100))\n",
        "\n",
        "\n",
        "# Train KNN with the best k value using [full] validation data \n",
        "model = KNeighborsClassifier(n_neighbors=1)\n",
        "model.fit(val_x, val_y)\n",
        "\n",
        "# Predict the labels of the test data\n",
        "predictions = model.predict(testData)\n",
        "\n",
        "# Calculate the accuracy given the true labels and prediction of test data\n",
        "from sklearn.metrics import accuracy_score\n",
        "TestAccuracy = accuracy_score(testLabels, predictions)\n",
        "print(\"Testing Accuracy with K-NN= %.5f%%\" % (TestAccuracy * 100))\n",
        "\n",
        "\n"
      ],
      "execution_count": null,
      "outputs": [
        {
          "output_type": "stream",
          "text": [
            "Testing Accuracy with decision tree classifier = 36.70000%\n",
            "Testing Accuracy with K-NN= 88.90000%\n"
          ],
          "name": "stdout"
        }
      ]
    },
    {
      "cell_type": "code",
      "metadata": {
        "id": "IPLke8jyFGng",
        "colab": {
          "base_uri": "https://localhost:8080/",
          "height": 1000
        },
        "outputId": "e5ce50bc-53ed-4947-b4b8-1c154164d7ae"
      },
      "source": [
        "\n",
        "\n",
        "# Train KNN with the best k value using [full] training data \n",
        "model = KNeighborsClassifier(n_neighbors=5)\n",
        "model.fit(trainData, trainLabels)\n",
        "\n",
        "# Predict the labels of the test data\n",
        "predictions = model.predict(testData)\n",
        "\n",
        "# Calculate the accuracy given the true labels and prediction of test data\n",
        "from sklearn.metrics import accuracy_score\n",
        "TestAccuracy = accuracy_score(testLabels, predictions)\n",
        "print(\"Testing Accuracy = %.5f%%\" % (TestAccuracy * 100))\n",
        "\n",
        "# Print the confusion matrix of the testing data \n",
        "from sklearn.metrics import confusion_matrix\n",
        "\n",
        "\n",
        "# Predict the labels of the test data\n",
        "predictions = model.predict(testData)\n",
        "import matplotlib.pyplot as plt\n",
        "\n",
        "for i in np.random.randint(0, high=len(testLabels), size=(5,)):\n",
        "  \n",
        "  # get the image with index i from test data\n",
        "  image = testData[i]\n",
        "\n",
        "  # estimate the prediction\n",
        "  prediction = model.predict([image])[0]\n",
        "  \n",
        "\n",
        "  # show the prediction\n",
        "\n",
        "  imgdata = np.array(image, dtype='float')\n",
        "  imgdata_2D = imgdata.reshape((train_sz[1],train_sz[2]))\n",
        "  plt.imshow(imgdata_2D, cmap='gray')\n",
        "  print(\"True Label is digit %d, Prediction is digit %d\" %(testLabels[i], prediction))\n",
        "\n",
        "  plt.show()\n"
      ],
      "execution_count": null,
      "outputs": [
        {
          "output_type": "stream",
          "text": [
            "Testing Accuracy = 93.40000%\n",
            "True Label is digit 4, Prediction is digit 4\n"
          ],
          "name": "stdout"
        },
        {
          "output_type": "display_data",
          "data": {
            "image/png": "[encoded data removed]",
            "text/plain": [
              "<Figure size 432x288 with 1 Axes>"
            ]
          },
          "metadata": {
            "tags": []
          }
        },
        {
          "output_type": "stream",
          "text": [
            "True Label is digit 4, Prediction is digit 4\n"
          ],
          "name": "stdout"
        },
        {
          "output_type": "display_data",
          "data": {
            "image/png": "[encoded data removed]",
            "text/plain": [
              "<Figure size 432x288 with 1 Axes>"
            ]
          },
          "metadata": {
            "tags": []
          }
        },
        {
          "output_type": "stream",
          "text": [
            "True Label is digit 7, Prediction is digit 7\n"
          ],
          "name": "stdout"
        },
        {
          "output_type": "display_data",
          "data": {
            "image/png": "[encoded data removed]",
            "text/plain": [
              "<Figure size 432x288 with 1 Axes>"
            ]
          },
          "metadata": {
            "tags": []
          }
        },
        {
          "output_type": "stream",
          "text": [
            "True Label is digit 6, Prediction is digit 6\n"
          ],
          "name": "stdout"
        },
        {
          "output_type": "display_data",
          "data": {
            "image/png": "[encoded data removed]",
            "text/plain": [
              "<Figure size 432x288 with 1 Axes>"
            ]
          },
          "metadata": {
            "tags": []
          }
        },
        {
          "output_type": "stream",
          "text": [
            "True Label is digit 2, Prediction is digit 2\n"
          ],
          "name": "stdout"
        },
        {
          "output_type": "display_data",
          "data": {
            "image/png": "[encoded data removed]",
            "text/plain": [
              "<Figure size 432x288 with 1 Axes>"
            ]
          },
          "metadata": {
            "tags": []
          }
        }
      ]
    },
    {
      "cell_type": "code",
      "metadata": {
        "id": "wSgwW1GC5GV_",
        "colab": {
          "base_uri": "https://localhost:8080/",
          "height": 185
        },
        "outputId": "29908e0e-f8b5-467e-a82d-646abd83c6c7"
      },
      "source": [
        "#confusion matrix\n",
        "from sklearn.metrics import confusion_matrix\n",
        "\n",
        "conf=confusion_matrix(testLabels,predictions)\n",
        "\n",
        "print(conf)\n"
      ],
      "execution_count": null,
      "outputs": [
        {
          "output_type": "stream",
          "text": [
            "[[ 84   0   0   0   0   0   1   0   0   0]\n",
            " [  0 126   0   0   0   0   0   0   0   0]\n",
            " [  1   1 103   1   0   0   2   3   5   0]\n",
            " [  0   1   0 102   0   0   0   2   1   1]\n",
            " [  1   1   0   0 100   0   1   0   0   7]\n",
            " [  1   0   0   2   0  76   2   0   4   2]\n",
            " [  3   0   0   0   1   0  83   0   0   0]\n",
            " [  0   3   0   0   1   1   0  94   0   0]\n",
            " [  3   0   1   2   1   2   1   1  76   2]\n",
            " [  0   1   0   0   0   0   0   0   3  90]]\n"
          ],
          "name": "stdout"
        }
      ]
    },
    {
      "cell_type": "code",
      "metadata": {
        "id": "DqjAraKu5Nfc",
        "colab": {
          "base_uri": "https://localhost:8080/",
          "height": 528
        },
        "outputId": "7432080d-6cb2-4f2e-dae8-bd61ed8283df"
      },
      "source": [
        "import pandas as pd\n",
        "true_labels =['true: ' + s for s in ['0','1','2','3','4','5','6','7','8','9']]\n",
        "pred_labels =['pred: ' + s for s in  ['0','1','2','3','4','5','6','7','8','9']]\n",
        "pd.DataFrame(conf,index=true_labels,columns=pred_labels)"
      ],
      "execution_count": null,
      "outputs": [
        {
          "output_type": "execute_result",
          "data": {
            "text/html": [
              "<div>\n",
              "<style scoped>\n",
              "    .dataframe tbody tr th:only-of-type {\n",
              "        vertical-align: middle;\n",
              "    }\n",
              "\n",
              "    .dataframe tbody tr th {\n",
              "        vertical-align: top;\n",
              "    }\n",
              "\n",
              "    .dataframe thead th {\n",
              "        text-align: right;\n",
              "    }\n",
              "</style>\n",
              "<table border=\"1\" class=\"dataframe\">\n",
              "  <thead>\n",
              "    <tr style=\"text-align: right;\">\n",
              "      <th></th>\n",
              "      <th>pred: 0</th>\n",
              "      <th>pred: 1</th>\n",
              "      <th>pred: 2</th>\n",
              "      <th>pred: 3</th>\n",
              "      <th>pred: 4</th>\n",
              "      <th>pred: 5</th>\n",
              "      <th>pred: 6</th>\n",
              "      <th>pred: 7</th>\n",
              "      <th>pred: 8</th>\n",
              "      <th>pred: 9</th>\n",
              "    </tr>\n",
              "  </thead>\n",
              "  <tbody>\n",
              "    <tr>\n",
              "      <th>true: 0</th>\n",
              "      <td>84</td>\n",
              "      <td>0</td>\n",
              "      <td>0</td>\n",
              "      <td>0</td>\n",
              "      <td>0</td>\n",
              "      <td>0</td>\n",
              "      <td>1</td>\n",
              "      <td>0</td>\n",
              "      <td>0</td>\n",
              "      <td>0</td>\n",
              "    </tr>\n",
              "    <tr>\n",
              "      <th>true: 1</th>\n",
              "      <td>0</td>\n",
              "      <td>126</td>\n",
              "      <td>0</td>\n",
              "      <td>0</td>\n",
              "      <td>0</td>\n",
              "      <td>0</td>\n",
              "      <td>0</td>\n",
              "      <td>0</td>\n",
              "      <td>0</td>\n",
              "      <td>0</td>\n",
              "    </tr>\n",
              "    <tr>\n",
              "      <th>true: 2</th>\n",
              "      <td>1</td>\n",
              "      <td>1</td>\n",
              "      <td>103</td>\n",
              "      <td>1</td>\n",
              "      <td>0</td>\n",
              "      <td>0</td>\n",
              "      <td>2</td>\n",
              "      <td>3</td>\n",
              "      <td>5</td>\n",
              "      <td>0</td>\n",
              "    </tr>\n",
              "    <tr>\n",
              "      <th>true: 3</th>\n",
              "      <td>0</td>\n",
              "      <td>1</td>\n",
              "      <td>0</td>\n",
              "      <td>102</td>\n",
              "      <td>0</td>\n",
              "      <td>0</td>\n",
              "      <td>0</td>\n",
              "      <td>2</td>\n",
              "      <td>1</td>\n",
              "      <td>1</td>\n",
              "    </tr>\n",
              "    <tr>\n",
              "      <th>true: 4</th>\n",
              "      <td>1</td>\n",
              "      <td>1</td>\n",
              "      <td>0</td>\n",
              "      <td>0</td>\n",
              "      <td>100</td>\n",
              "      <td>0</td>\n",
              "      <td>1</td>\n",
              "      <td>0</td>\n",
              "      <td>0</td>\n",
              "      <td>7</td>\n",
              "    </tr>\n",
              "    <tr>\n",
              "      <th>true: 5</th>\n",
              "      <td>1</td>\n",
              "      <td>0</td>\n",
              "      <td>0</td>\n",
              "      <td>2</td>\n",
              "      <td>0</td>\n",
              "      <td>76</td>\n",
              "      <td>2</td>\n",
              "      <td>0</td>\n",
              "      <td>4</td>\n",
              "      <td>2</td>\n",
              "    </tr>\n",
              "    <tr>\n",
              "      <th>true: 6</th>\n",
              "      <td>3</td>\n",
              "      <td>0</td>\n",
              "      <td>0</td>\n",
              "      <td>0</td>\n",
              "      <td>1</td>\n",
              "      <td>0</td>\n",
              "      <td>83</td>\n",
              "      <td>0</td>\n",
              "      <td>0</td>\n",
              "      <td>0</td>\n",
              "    </tr>\n",
              "    <tr>\n",
              "      <th>true: 7</th>\n",
              "      <td>0</td>\n",
              "      <td>3</td>\n",
              "      <td>0</td>\n",
              "      <td>0</td>\n",
              "      <td>1</td>\n",
              "      <td>1</td>\n",
              "      <td>0</td>\n",
              "      <td>94</td>\n",
              "      <td>0</td>\n",
              "      <td>0</td>\n",
              "    </tr>\n",
              "    <tr>\n",
              "      <th>true: 8</th>\n",
              "      <td>3</td>\n",
              "      <td>0</td>\n",
              "      <td>1</td>\n",
              "      <td>2</td>\n",
              "      <td>1</td>\n",
              "      <td>2</td>\n",
              "      <td>1</td>\n",
              "      <td>1</td>\n",
              "      <td>76</td>\n",
              "      <td>2</td>\n",
              "    </tr>\n",
              "    <tr>\n",
              "      <th>true: 9</th>\n",
              "      <td>0</td>\n",
              "      <td>1</td>\n",
              "      <td>0</td>\n",
              "      <td>0</td>\n",
              "      <td>0</td>\n",
              "      <td>0</td>\n",
              "      <td>0</td>\n",
              "      <td>0</td>\n",
              "      <td>3</td>\n",
              "      <td>90</td>\n",
              "    </tr>\n",
              "  </tbody>\n",
              "</table>\n",
              "</div>"
            ],
            "text/plain": [
              "         pred: 0  pred: 1  pred: 2  pred: 3  ...  pred: 6  pred: 7  pred: 8  pred: 9\n",
              "true: 0       84        0        0        0  ...        1        0        0        0\n",
              "true: 1        0      126        0        0  ...        0        0        0        0\n",
              "true: 2        1        1      103        1  ...        2        3        5        0\n",
              "true: 3        0        1        0      102  ...        0        2        1        1\n",
              "true: 4        1        1        0        0  ...        1        0        0        7\n",
              "true: 5        1        0        0        2  ...        2        0        4        2\n",
              "true: 6        3        0        0        0  ...       83        0        0        0\n",
              "true: 7        0        3        0        0  ...        0       94        0        0\n",
              "true: 8        3        0        1        2  ...        1        1       76        2\n",
              "true: 9        0        1        0        0  ...        0        0        3       90\n",
              "\n",
              "[10 rows x 10 columns]"
            ]
          },
          "metadata": {
            "tags": []
          },
          "execution_count": 38
        }
      ]
    }
  ]
}